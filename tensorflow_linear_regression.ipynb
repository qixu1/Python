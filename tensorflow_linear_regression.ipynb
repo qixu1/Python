{
 "cells": [
  {
   "cell_type": "code",
   "execution_count": 1,
   "metadata": {
    "collapsed": true
   },
   "outputs": [],
   "source": [
    "import tensorflow as tf\n",
    "import numpy as np\n",
    "import pandas as pd\n",
    "import xlrd"
   ]
  },
  {
   "cell_type": "code",
   "execution_count": 2,
   "metadata": {
    "collapsed": true
   },
   "outputs": [],
   "source": [
    "# step 1\n",
    "DATA_FILE = '/Users/mingchang/Downloads/fire_theft.xls'\n",
    "\n",
    "# Step 1: read in data from the .xls file\n",
    "book = xlrd.open_workbook(DATA_FILE, encoding_override=\"utf-8\")\n",
    "sheet = book.sheet_by_index(0)\n",
    "data = np.asarray([sheet.row_values(i) for i in range(1, sheet.nrows)])\n",
    "n_samples = sheet.nrows - 1"
   ]
  },
  {
   "cell_type": "code",
   "execution_count": 3,
   "metadata": {
    "collapsed": false
   },
   "outputs": [
    {
     "data": {
      "text/plain": [
       "array([[   6.2,   29. ],\n",
       "       [   9.5,   44. ],\n",
       "       [  10.5,   36. ],\n",
       "       [   7.7,   37. ],\n",
       "       [   8.6,   53. ],\n",
       "       [  34.1,   68. ],\n",
       "       [  11. ,   75. ],\n",
       "       [   6.9,   18. ],\n",
       "       [   7.3,   31. ],\n",
       "       [  15.1,   25. ],\n",
       "       [  29.1,   34. ],\n",
       "       [   2.2,   14. ],\n",
       "       [   5.7,   11. ],\n",
       "       [   2. ,   11. ],\n",
       "       [   2.5,   22. ],\n",
       "       [   4. ,   16. ],\n",
       "       [   5.4,   27. ],\n",
       "       [   2.2,    9. ],\n",
       "       [   7.2,   29. ],\n",
       "       [  15.1,   30. ],\n",
       "       [  16.5,   40. ],\n",
       "       [  18.4,   32. ],\n",
       "       [  36.2,   41. ],\n",
       "       [  39.7,  147. ],\n",
       "       [  18.5,   22. ],\n",
       "       [  23.3,   29. ],\n",
       "       [  12.2,   46. ],\n",
       "       [   5.6,   23. ],\n",
       "       [  21.8,    4. ],\n",
       "       [  21.6,   31. ],\n",
       "       [   9. ,   39. ],\n",
       "       [   3.6,   15. ],\n",
       "       [   5. ,   32. ],\n",
       "       [  28.6,   27. ],\n",
       "       [  17.4,   32. ],\n",
       "       [  11.3,   34. ],\n",
       "       [   3.4,   17. ],\n",
       "       [  11.9,   46. ],\n",
       "       [  10.5,   42. ],\n",
       "       [  10.7,   43. ],\n",
       "       [  10.8,   34. ],\n",
       "       [   4.8,   19. ]])"
      ]
     },
     "execution_count": 3,
     "metadata": {},
     "output_type": "execute_result"
    }
   ],
   "source": [
    "data"
   ]
  },
  {
   "cell_type": "code",
   "execution_count": 4,
   "metadata": {
    "collapsed": true
   },
   "outputs": [],
   "source": [
    "# Step 2: create placeholders for input X (number of fire) and label Y (number of theft)\n",
    "X = tf.placeholder(tf.float32, name='X')\n",
    "Y = tf.placeholder(tf.float32, name='Y')\n",
    "\n",
    "# Step 3: create weight and bias, initialized to 0\n",
    "w = tf.Variable(0.0, name='weights')\n",
    "b = tf.Variable(0.0, name='bias')\n",
    "\n",
    "# Step 4: build model to predict Y\n",
    "#Y_predicted = X * w + b \n",
    "Y_predicted = tf.add(tf.multiply(X, w), b)\n",
    "\n",
    "# Step 5: use the square error as the loss function\n",
    "loss = tf.square(Y - Y_predicted, name='loss')\n",
    "\n",
    "# Step 6: using gradient descent with learning rate of 0.01 to minimize loss\n",
    "optimizer = tf.train.GradientDescentOptimizer(learning_rate=0.001).minimize(loss)"
   ]
  },
  {
   "cell_type": "code",
   "execution_count": 5,
   "metadata": {
    "collapsed": true
   },
   "outputs": [],
   "source": [
    "# Step 7: start a TF session and train the model\n",
    "with tf.Session() as sess:\n",
    "    # initialize the necessary variables, in this case, w and b\n",
    "    sess.run(tf.global_variables_initializer())\n",
    "    # train the model\n",
    "    for i in range(100): # train the model 100 times\n",
    "        for x, y in data:\n",
    "            # Session runs train_op and fetch values of loss\n",
    "            sess.run(optimizer, feed_dict={X: x, Y: y})\n",
    "    w_value, b_value = sess.run([w, b])"
   ]
  },
  {
   "cell_type": "code",
   "execution_count": 6,
   "metadata": {
    "collapsed": false
   },
   "outputs": [
    {
     "name": "stdout",
     "output_type": "stream",
     "text": [
      "1.71838 15.7892\n"
     ]
    }
   ],
   "source": [
    "print w_value, b_value"
   ]
  },
  {
   "cell_type": "code",
   "execution_count": 7,
   "metadata": {
    "collapsed": false
   },
   "outputs": [
    {
     "data": {
      "image/png": "[encoded data removed]",
      "text/plain": [
       "<matplotlib.figure.Figure at 0x10c981910>"
      ]
     },
     "metadata": {},
     "output_type": "display_data"
    }
   ],
   "source": [
    "# plot the results\n",
    "import matplotlib.pyplot as plt\n",
    "%matplotlib inline\n",
    "\n",
    "X, Y = data.T[0], data.T[1]\n",
    "plt.scatter(X, Y, label='Real data')\n",
    "plt.plot(X, X * w_value + b_value, 'r', label='Predicted data')\n",
    "plt.legend()\n",
    "plt.show()"
   ]
  },
  {
   "cell_type": "code",
   "execution_count": null,
   "metadata": {
    "collapsed": true
   },
   "outputs": [],
   "source": []
  }
 ],
 "metadata": {
  "anaconda-cloud": {},
  "kernelspec": {
   "display_name": "Python [default]",
   "language": "python",
   "name": "python2"
  },
  "language_info": {
   "codemirror_mode": {
    "name": "ipython",
    "version": 2
   },
   "file_extension": ".py",
   "mimetype": "text/x-python",
   "name": "python",
   "nbconvert_exporter": "python",
   "pygments_lexer": "ipython2",
   "version": "2.7.12"
  }
 },
 "nbformat": 4,
 "nbformat_minor": 2
}
