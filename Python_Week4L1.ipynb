{
 "cells": [
  {
   "cell_type": "code",
   "execution_count": 3,
   "metadata": {},
   "outputs": [
    {
     "data": {
      "text/html": [
       "<script>jQuery(function() {if (jQuery(\"body.notebook_app\").length == 0) { jQuery(\".input_area\").toggle(); jQuery(\".prompt\").toggle();}});</script>"
      ]
     },
     "metadata": {},
     "output_type": "display_data"
    },
    {
     "data": {
      "text/html": [
       "<button onclick=\"jQuery('.input_area').toggle(); jQuery('.prompt').toggle();\">Toggle code</button>"
      ]
     },
     "metadata": {},
     "output_type": "display_data"
    }
   ],
   "source": [
    "from IPython.display import display\n",
    "from IPython.display import HTML\n",
    "import IPython.core.display as di # Example: di.display_html('<h3>%s:</h3>' % str, raw=True)\n",
    "\n",
    "# This line will hide code by default when the notebook is exported as HTML\n",
    "di.display_html('<script>jQuery(function() {if (jQuery(\"body.notebook_app\").length == 0) { jQuery(\".input_area\").toggle(); jQuery(\".prompt\").toggle();}});</script>', raw=True)\n",
    "\n",
    "# This line will add a button to toggle visibility of code blocks, for use with the HTML export version\n",
    "di.display_html('''<button onclick=\"jQuery('.input_area').toggle(); jQuery('.prompt').toggle();\">Toggle code</button>''', raw=True)"
   ]
  },
  {
   "cell_type": "code",
   "execution_count": 4,
   "metadata": {},
   "outputs": [
    {
     "name": "stdout",
     "output_type": "stream",
     "text": [
      "hello world\n"
     ]
    }
   ],
   "source": [
    "###### Test if your notebook works"
   ]
  },
  {
   "cell_type": "code",
   "execution_count": 5,
   "metadata": {},
   "outputs": [
    {
     "name": "stdout",
     "output_type": "stream",
     "text": [
      "hello world\n"
     ]
    }
   ],
   "source": [
    "print(\"hello world\")"
   ]
  },
  {
   "cell_type": "code",
   "execution_count": 6,
   "metadata": {
    "collapsed": true
   },
   "outputs": [],
   "source": [
    "###### Import libraries"
   ]
  },
  {
   "cell_type": "code",
   "execution_count": 8,
   "metadata": {
    "collapsed": true
   },
   "outputs": [],
   "source": [
    "import numpy as np\n",
    "import pandas as pd\n",
    "import scipy"
   ]
  },
  {
   "cell_type": "code",
   "execution_count": 9,
   "metadata": {
    "collapsed": true
   },
   "outputs": [],
   "source": [
    "###### Variables"
   ]
  },
  {
   "cell_type": "code",
   "execution_count": 11,
   "metadata": {},
   "outputs": [
    {
     "name": "stdout",
     "output_type": "stream",
     "text": [
      "11\n",
      "python\n"
     ]
    }
   ],
   "source": [
    "# number\n",
    "x = 5 \n",
    "y = 6\n",
    "print(x + y)\n",
    "\n",
    "#string\n",
    "my_string =\"python\"\n",
    "print(my_string)"
   ]
  },
  {
   "cell_type": "code",
   "execution_count": 12,
   "metadata": {
    "collapsed": true
   },
   "outputs": [],
   "source": [
    "###### String Operation"
   ]
  },
  {
   "cell_type": "code",
   "execution_count": 23,
   "metadata": {},
   "outputs": [
    {
     "name": "stdout",
     "output_type": "stream",
     "text": [
      "my python\n",
      "my python is level 5\n"
     ]
    },
    {
     "data": {
      "text/plain": [
       "1"
      ]
     },
     "execution_count": 23,
     "metadata": {},
     "output_type": "execute_result"
    }
   ],
   "source": [
    "# Length of a string\n",
    "len(my_string)\n",
    "\n",
    "# concatenation\n",
    "print(\"my \" + my_string)\n",
    "\n",
    "# coercion\n",
    "print(\"my \" + my_string + \" is level \" + str(x))\n",
    "\n",
    "# visit a character: 0-index\n",
    "my_string[3]\n",
    "my_string[-1]\n",
    "\n",
    "# string manipulations\n",
    "my_string.upper()\n",
    "my_string.replace(\"y\", \"yyyy\")\n",
    "my_string.find(\"y\")\n"
   ]
  },
  {
   "cell_type": "code",
   "execution_count": 24,
   "metadata": {
    "collapsed": true
   },
   "outputs": [],
   "source": [
    "###### List"
   ]
  },
  {
   "cell_type": "code",
   "execution_count": 30,
   "metadata": {},
   "outputs": [
    {
     "name": "stdout",
     "output_type": "stream",
     "text": [
      "['red', 'blue', 'green', 'yellow']\n",
      "['red', 'pink', 'blue', 'green', 'yellow']\n",
      "['red', 'blue', 'green', 'yellow']\n"
     ]
    },
    {
     "data": {
      "text/plain": [
       "1"
      ]
     },
     "execution_count": 30,
     "metadata": {},
     "output_type": "execute_result"
    }
   ],
   "source": [
    "colors = [\"red\", \"blue\", \"green\"]\n",
    "#print(colors)\n",
    "#print(colors[0])\n",
    "#print(len(colors))\n",
    "\n",
    "# manipulation\n",
    "# append at the bottom\n",
    "colors.append(\"yellow\")\n",
    "print(colors)\n",
    "\n",
    "# insert at any position\n",
    "colors.insert(1, \"pink\")\n",
    "print(colors)\n",
    "\n",
    "# remove an element\n",
    "colors.pop(1)\n",
    "print(colors)\n",
    "\n",
    "# search for an element\n",
    "colors.index(\"green\")\n",
    "\n",
    "# quiz: what if there's duplicate\n",
    "colors = [\"red\", \"blue\", \"blue\", \"green\"]\n",
    "colors.index(\"blue\")\n",
    "\n",
    "# quiz: what about other stuff? remove duplicate?\n",
    "# answer: use numpy which handles this type of stuff"
   ]
  },
  {
   "cell_type": "code",
   "execution_count": 31,
   "metadata": {
    "collapsed": true
   },
   "outputs": [],
   "source": [
    "###### control flow"
   ]
  },
  {
   "cell_type": "code",
   "execution_count": 32,
   "metadata": {},
   "outputs": [
    {
     "name": "stdout",
     "output_type": "stream",
     "text": [
      "No\n"
     ]
    }
   ],
   "source": [
    "# if/else. simple example\n",
    "x = 10\n",
    "if x == 5:\n",
    "    print(\"Yes\")\n",
    "else:\n",
    "    print(\"No\")"
   ]
  },
  {
   "cell_type": "code",
   "execution_count": 35,
   "metadata": {},
   "outputs": [
    {
     "name": "stdout",
     "output_type": "stream",
     "text": [
      "License and registration please\n",
      "I'm going to have to write you a ticket.\n"
     ]
    }
   ],
   "source": [
    "# if/else. complex example\n",
    "speed = 82\n",
    "mood = \"bad\"\n",
    "\n",
    "if speed >= 80:\n",
    "    print (\"License and registration please\")\n",
    "    if mood == 'terrible' or speed >= 100:\n",
    "        print (\"You have the right to remain silent.\")\n",
    "    elif mood == 'bad' or speed >= 90:\n",
    "        print (\"I'm going to have to write you a ticket.\")\n",
    "    else:\n",
    "        print (\"Let's try to keep it under 80 ok?\")"
   ]
  },
  {
   "cell_type": "code",
   "execution_count": 36,
   "metadata": {},
   "outputs": [
    {
     "name": "stdout",
     "output_type": "stream",
     "text": [
      "2\n",
      "3\n",
      "5\n",
      "7\n"
     ]
    }
   ],
   "source": [
    "# for loop\n",
    "primes = [2, 3, 5, 7]\n",
    "for prime in primes:\n",
    "    print(prime)"
   ]
  },
  {
   "cell_type": "code",
   "execution_count": 37,
   "metadata": {},
   "outputs": [
    {
     "name": "stdout",
     "output_type": "stream",
     "text": [
      "2\n",
      "5.7\n"
     ]
    }
   ],
   "source": [
    "# tuple\n",
    "my_tuple = (\"price\", 5.7)\n",
    "print(len(my_tuple))\n",
    "print(my_tuple[1])"
   ]
  },
  {
   "cell_type": "code",
   "execution_count": 38,
   "metadata": {
    "collapsed": true
   },
   "outputs": [],
   "source": [
    "###### numpy"
   ]
  },
  {
   "cell_type": "code",
   "execution_count": 70,
   "metadata": {},
   "outputs": [
    {
     "name": "stdout",
     "output_type": "stream",
     "text": [
      "[[1]\n",
      " [2]]\n",
      "[[1 2]]\n",
      "[[1 2]\n",
      " [3 4]]\n",
      "matrix rows 2 columns 2\n",
      "transposed matrix\n",
      "[[1 3]\n",
      " [2 4]]\n",
      "a + b\n",
      "[[2 4]\n",
      " [6 8]]\n",
      "matrix product\n",
      "[[ 7 10]\n",
      " [15 22]]\n"
     ]
    },
    {
     "ename": "AttributeError",
     "evalue": "'numpy.ndarray' object has no attribute 'append'",
     "output_type": "error",
     "traceback": [
      "\u001b[1;31m---------------------------------------------------------------------------\u001b[0m",
      "\u001b[1;31mAttributeError\u001b[0m                            Traceback (most recent call last)",
      "\u001b[1;32m<ipython-input-70-3f5d12b4aaa2>\u001b[0m in \u001b[0;36m<module>\u001b[1;34m()\u001b[0m\n\u001b[0;32m     53\u001b[0m \u001b[1;31m#np.insert(my_array, 3, 3)\u001b[0m\u001b[1;33m\u001b[0m\u001b[1;33m\u001b[0m\u001b[0m\n\u001b[0;32m     54\u001b[0m \u001b[1;31m#np.delete(my_array, [1])\u001b[0m\u001b[1;33m\u001b[0m\u001b[1;33m\u001b[0m\u001b[0m\n\u001b[1;32m---> 55\u001b[1;33m \u001b[0mmy_array\u001b[0m\u001b[1;33m.\u001b[0m\u001b[0mappend\u001b[0m\u001b[1;33m(\u001b[0m\u001b[1;36m6\u001b[0m\u001b[1;33m)\u001b[0m\u001b[1;33m\u001b[0m\u001b[0m\n\u001b[0m",
      "\u001b[1;31mAttributeError\u001b[0m: 'numpy.ndarray' object has no attribute 'append'"
     ]
    }
   ],
   "source": [
    "# create a column vector\n",
    "col_vec = np.array([[1], [2]])\n",
    "print (col_vec)\n",
    "\n",
    "# create a row vector\n",
    "row_vec = np.array([[1, 2]])\n",
    "print (row_vec)\n",
    "\n",
    "# create a matrix\n",
    "my_matrix = np.array([[1, 2], [3, 4]])\n",
    "print (my_matrix)\n",
    "\n",
    "# inspect dimensions\n",
    "shape = my_matrix.shape\n",
    "print (\"matrix rows\", shape[0], \"columns\", shape[1])\n",
    "    \n",
    "# transpose\n",
    "my_matrix_t = my_matrix.transpose()\n",
    "print (\"transposed matrix\")\n",
    "print (my_matrix_t)\n",
    "\n",
    "# matrix calculation\n",
    "# addition\n",
    "a = np.array([[1, 2], [3, 4]])\n",
    "b = np.array([[1, 2], [3, 4]])\n",
    "print (\"a + b\")\n",
    "print (a + b)\n",
    "\n",
    "# matrix product\n",
    "print (\"matrix product\")\n",
    "print (np.dot(a, b))\n",
    "\n",
    "\n",
    "# more interesting stuff:\n",
    "# on 1d array, which is essentially a list.\n",
    "my_array = np.array([1, 2, 3, 4])\n",
    "len(my_array)\n",
    "my_array.sum()\n",
    "my_array.max()\n",
    "my_array.mean()\n",
    "\n",
    "# quiz:\n",
    "my_array = np.array([1, 2, 2, 4, 5])\n",
    "np.unique(my_array)\n",
    "\n",
    "# other stuff:\n",
    "# subset\n",
    "my_array[-1]\n",
    "my_array[my_array>2]\n",
    "\n",
    "# add/remove element\n",
    "np.append(my_array, 6)\n",
    "np.insert(my_array, 3, 3)\n",
    "np.delete(my_array, [1])\n"
   ]
  },
  {
   "cell_type": "code",
   "execution_count": 71,
   "metadata": {
    "collapsed": true
   },
   "outputs": [],
   "source": [
    "###### pandas"
   ]
  },
  {
   "cell_type": "code",
   "execution_count": 72,
   "metadata": {
    "collapsed": true
   },
   "outputs": [],
   "source": [
    "###### pandas basic"
   ]
  },
  {
   "cell_type": "code",
   "execution_count": 81,
   "metadata": {},
   "outputs": [
    {
     "name": "stdout",
     "output_type": "stream",
     "text": [
      "  customer_id       date  spend\n",
      "0           A   5/1/2017     10\n",
      "1           B   5/8/2017      5\n",
      "2           C  5/11/2017     20\n"
     ]
    },
    {
     "data": {
      "text/html": [
       "<div>\n",
       "<style>\n",
       "    .dataframe thead tr:only-child th {\n",
       "        text-align: right;\n",
       "    }\n",
       "\n",
       "    .dataframe thead th {\n",
       "        text-align: left;\n",
       "    }\n",
       "\n",
       "    .dataframe tbody tr th {\n",
       "        vertical-align: top;\n",
       "    }\n",
       "</style>\n",
       "<table border=\"1\" class=\"dataframe\">\n",
       "  <thead>\n",
       "    <tr style=\"text-align: right;\">\n",
       "      <th></th>\n",
       "      <th>customer_id</th>\n",
       "      <th>date</th>\n",
       "      <th>spend</th>\n",
       "    </tr>\n",
       "  </thead>\n",
       "  <tbody>\n",
       "    <tr>\n",
       "      <th>0</th>\n",
       "      <td>A</td>\n",
       "      <td>5/1/2017</td>\n",
       "      <td>10</td>\n",
       "    </tr>\n",
       "  </tbody>\n",
       "</table>\n",
       "</div>"
      ],
      "text/plain": [
       "  customer_id      date  spend\n",
       "0           A  5/1/2017     10"
      ]
     },
     "execution_count": 81,
     "metadata": {},
     "output_type": "execute_result"
    }
   ],
   "source": [
    "df = pd.DataFrame(\n",
    "    {\n",
    "        \"customer_id\": [\"A\", \"B\", \"C\"],\n",
    "        \"date\": [\"5/1/2017\", \"5/8/2017\", \"5/11/2017\"],\n",
    "        \"spend\": [10, 5, 20]\n",
    "    },\n",
    "    #index = [1, 2, 3],\n",
    "    columns = [\"customer_id\", \"date\", \"spend\"]\n",
    ")\n",
    "print(df)\n",
    "# describe table\n",
    "df.shape\n",
    "\n",
    "# subset columns\n",
    "df[\"spend\"]\n",
    "df[[\"customer_id\", \"spend\"]]\n",
    "\n",
    "# subset rows\n",
    "df.sample(n = 1)\n",
    "df.head(n = 1)"
   ]
  },
  {
   "cell_type": "code",
   "execution_count": null,
   "metadata": {
    "collapsed": true
   },
   "outputs": [],
   "source": [
    "###### pandas data I/O"
   ]
  },
  {
   "cell_type": "code",
   "execution_count": null,
   "metadata": {
    "collapsed": true
   },
   "outputs": [],
   "source": [
    "# from csv\n",
    "file_location = \"/Users/mingchang/Downloads/\"\n",
    "file_name = \"BA501_python_data.csv\"\n",
    "my_data = pd.read_csv(file_location + file_name)\n",
    "\n",
    "my_data.head(5)"
   ]
  }
 ],
 "metadata": {
  "kernelspec": {
   "display_name": "Python 3",
   "language": "python",
   "name": "python3"
  },
  "language_info": {
   "codemirror_mode": {
    "name": "ipython",
    "version": 3
   },
   "file_extension": ".py",
   "mimetype": "text/x-python",
   "name": "python",
   "nbconvert_exporter": "python",
   "pygments_lexer": "ipython3",
   "version": "3.6.1"
  }
 },
 "nbformat": 4,
 "nbformat_minor": 2
}
