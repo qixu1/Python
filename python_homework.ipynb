{
 "cells": [
  {
   "cell_type": "code",
   "execution_count": null,
   "metadata": {
    "collapsed": true
   },
   "outputs": [],
   "source": [
    "# HW 1: How do you handle duplicate values in a dataset in Python?"
   ]
  },
  {
   "cell_type": "code",
   "execution_count": 3,
   "metadata": {
    "collapsed": false
   },
   "outputs": [
    {
     "name": "stdout",
     "output_type": "stream",
     "text": [
      "[1 2 3 3 4 5]\n",
      "[1 2 3 4 5]\n"
     ]
    }
   ],
   "source": [
    "# if in a numpy array\n",
    "import numpy as np\n",
    "a = np.array([1,2,3,3,4,5])\n",
    "print a\n",
    "\n",
    "a_dedupe = np.unique(a)\n",
    "print a_dedupe"
   ]
  },
  {
   "cell_type": "code",
   "execution_count": 4,
   "metadata": {
    "collapsed": false
   },
   "outputs": [
    {
     "name": "stdout",
     "output_type": "stream",
     "text": [
      "   0  1  2  3  4\n",
      "0  1  2  3  4  5\n",
      "2  1  2  3  4  6\n"
     ]
    }
   ],
   "source": [
    "# if a dataframe\n",
    "import pandas as pd\n",
    "b = pd.DataFrame([[1,2,3,4,5],[1,2,3,4,5],[1,2,3,4,6]])\n",
    "#b = np.array([[1,2,3,4,5],[1,2,3,4,5],[1,2,3,4,6]])\n",
    "\n",
    "\n",
    "# after checking on documentation, we know that...\n",
    "b_dedupe = b.drop_duplicates()\n",
    "print b_dedupe\n",
    "\n",
    "# what about remove duplicate columns?"
   ]
  },
  {
   "cell_type": "code",
   "execution_count": null,
   "metadata": {
    "collapsed": true
   },
   "outputs": [],
   "source": [
    "# HW 2: friend request"
   ]
  },
  {
   "cell_type": "code",
   "execution_count": 16,
   "metadata": {
    "collapsed": false
   },
   "outputs": [
    {
     "name": "stdout",
     "output_type": "stream",
     "text": [
      "   requester_id  sent_to_id        time\n",
      "0          1001        3001  2017-07-01\n",
      "1          1002        3002  2017-07-02\n",
      "2          1003        3003  2017-07-03\n",
      "   acceptor_id  requester_id        time\n",
      "0         3001          1001  2017-07-01\n",
      "1         3003          1003  2017-07-04\n"
     ]
    }
   ],
   "source": [
    "import pandas as pd\n",
    "\n",
    "friend_request = pd.DataFrame(\n",
    "    {\"requester_id\":[1001,1002,1003],\n",
    "     \"time\":[\"2017-07-01\",\"2017-07-02\",\"2017-07-03\"],\n",
    "     \"sent_to_id\":[3001,3002,3003]}\n",
    ")\n",
    "\n",
    "request_accepted = pd.DataFrame(\n",
    "    {\"requester_id\":[1001,1003],\n",
    "     \"time\":[\"2017-07-01\",\"2017-07-04\"],\n",
    "     \"acceptor_id\":[3001,3003]}\n",
    ")\n",
    "\n",
    "print(friend_request)\n",
    "print(request_accepted)\n",
    "\n",
    "# sql\n",
    "#select\n",
    "#sum(if(t2.acceptor_id is null, 0, 1))/sum(1) as acceptance_rate,\n",
    "#avg(time_diff(t2.time, t1.time)) as time_diff\n",
    "#from friend_request t1\n",
    "#left join request_accepted t2\n",
    "#on t1.requester_id=t2.requeter_id;"
   ]
  },
  {
   "cell_type": "code",
   "execution_count": 17,
   "metadata": {
    "collapsed": false
   },
   "outputs": [
    {
     "data": {
      "text/plain": [
       "0.6666666666666666"
      ]
     },
     "execution_count": 17,
     "metadata": {},
     "output_type": "execute_result"
    }
   ],
   "source": [
    "a = pd.merge(friend_request,request_accepted,how=\"left\",on=\"requester_id\")\n",
    "len(a[\"acceptor_id\"][a.acceptor_id > 0])/(len(a[\"acceptor_id\"])*1.0)"
   ]
  },
  {
   "cell_type": "code",
   "execution_count": 6,
   "metadata": {
    "collapsed": false
   },
   "outputs": [
    {
     "data": {
      "text/plain": [
       "<matplotlib.legend.Legend at 0x107b08310>"
      ]
     },
     "execution_count": 6,
     "metadata": {},
     "output_type": "execute_result"
    },
    {
     "data": {
      "image/png": "[encoded data removed]",
      "text/plain": [
       "<matplotlib.figure.Figure at 0x10c0e2850>"
      ]
     },
     "metadata": {},
     "output_type": "display_data"
    }
   ],
   "source": [
    "# HW 4: Using our data, draw a histogram which plots both US and JP data on the same plot.\n",
    "%matplotlib inline\n",
    "import matplotlib.pyplot as plt\n",
    "\n",
    "file_location = \"/Users/mingchang/Downloads/\"\n",
    "file_name = \"orders_new.csv\"\n",
    "my_data = pd.read_csv(file_location + file_name)\n",
    "\n",
    "my_series_jp = my_data[\"spend_usd\"][(my_data.spend_usd < 20) & (my_data.country == \"JP\")]\n",
    "my_series_us = my_data[\"spend_usd\"][(my_data.spend_usd < 20) & (my_data.country == \"US\")]\n",
    "\n",
    "# solution:\n",
    "fig, ax = plt.subplots()\n",
    "ax.hist(my_series_jp, bins=50, color = \"red\", label=\"JP\")\n",
    "ax.hist(my_series_us, bins=50, color = \"blue\", label=\"US\")\n",
    "ax.legend()"
   ]
  },
  {
   "cell_type": "code",
   "execution_count": 7,
   "metadata": {
    "collapsed": false
   },
   "outputs": [
    {
     "data": {
      "text/html": [
       "<div>\n",
       "<style>\n",
       "    .dataframe thead tr:only-child th {\n",
       "        text-align: right;\n",
       "    }\n",
       "\n",
       "    .dataframe thead th {\n",
       "        text-align: left;\n",
       "    }\n",
       "\n",
       "    .dataframe tbody tr th {\n",
       "        vertical-align: top;\n",
       "    }\n",
       "</style>\n",
       "<table border=\"1\" class=\"dataframe\">\n",
       "  <thead>\n",
       "    <tr style=\"text-align: right;\">\n",
       "      <th></th>\n",
       "      <th>country</th>\n",
       "      <th>date</th>\n",
       "      <th>experiment_id</th>\n",
       "      <th>order_id</th>\n",
       "      <th>spend_usd</th>\n",
       "      <th>user_id</th>\n",
       "      <th>vertical</th>\n",
       "    </tr>\n",
       "  </thead>\n",
       "  <tbody>\n",
       "    <tr>\n",
       "      <th>0</th>\n",
       "      <td>US</td>\n",
       "      <td>2017-04-02</td>\n",
       "      <td>12624549</td>\n",
       "      <td>6720123150182430132</td>\n",
       "      <td>49.99</td>\n",
       "      <td>3659561261588336546</td>\n",
       "      <td>ANDROID_APPS</td>\n",
       "    </tr>\n",
       "    <tr>\n",
       "      <th>1</th>\n",
       "      <td>US</td>\n",
       "      <td>2017-04-01</td>\n",
       "      <td>12624549</td>\n",
       "      <td>17511438899767627798</td>\n",
       "      <td>0.99</td>\n",
       "      <td>3659561261588336546</td>\n",
       "      <td>ANDROID_APPS</td>\n",
       "    </tr>\n",
       "    <tr>\n",
       "      <th>2</th>\n",
       "      <td>US</td>\n",
       "      <td>2017-04-04</td>\n",
       "      <td>12624549</td>\n",
       "      <td>1549342062436664018</td>\n",
       "      <td>39.99</td>\n",
       "      <td>3659561261588336546</td>\n",
       "      <td>ANDROID_APPS</td>\n",
       "    </tr>\n",
       "    <tr>\n",
       "      <th>3</th>\n",
       "      <td>US</td>\n",
       "      <td>2017-04-04</td>\n",
       "      <td>12624549</td>\n",
       "      <td>7771425263197855716</td>\n",
       "      <td>19.99</td>\n",
       "      <td>3659561261588336546</td>\n",
       "      <td>ANDROID_APPS</td>\n",
       "    </tr>\n",
       "    <tr>\n",
       "      <th>4</th>\n",
       "      <td>US</td>\n",
       "      <td>2017-04-01</td>\n",
       "      <td>12624549</td>\n",
       "      <td>17943210556580942992</td>\n",
       "      <td>19.99</td>\n",
       "      <td>3659561261588336546</td>\n",
       "      <td>ANDROID_APPS</td>\n",
       "    </tr>\n",
       "  </tbody>\n",
       "</table>\n",
       "</div>"
      ],
      "text/plain": [
       "  country       date  experiment_id              order_id  spend_usd  \\\n",
       "0      US 2017-04-02       12624549   6720123150182430132      49.99   \n",
       "1      US 2017-04-01       12624549  17511438899767627798       0.99   \n",
       "2      US 2017-04-04       12624549   1549342062436664018      39.99   \n",
       "3      US 2017-04-04       12624549   7771425263197855716      19.99   \n",
       "4      US 2017-04-01       12624549  17943210556580942992      19.99   \n",
       "\n",
       "               user_id      vertical  \n",
       "0  3659561261588336546  ANDROID_APPS  \n",
       "1  3659561261588336546  ANDROID_APPS  \n",
       "2  3659561261588336546  ANDROID_APPS  \n",
       "3  3659561261588336546  ANDROID_APPS  \n",
       "4  3659561261588336546  ANDROID_APPS  "
      ]
     },
     "execution_count": 7,
     "metadata": {},
     "output_type": "execute_result"
    }
   ],
   "source": [
    "# deal with date format\n",
    "my_data.date = pd.to_datetime(my_data.date, format='%Y-%m-%d')\n",
    "my_data.date.head()\n",
    "my_data.head()"
   ]
  },
  {
   "cell_type": "code",
   "execution_count": 8,
   "metadata": {
    "collapsed": false
   },
   "outputs": [
    {
     "data": {
      "image/png": "[encoded data removed]",
      "text/plain": [
       "<matplotlib.figure.Figure at 0x10cc7a6d0>"
      ]
     },
     "metadata": {},
     "output_type": "display_data"
    }
   ],
   "source": [
    "# HW 5: Similarly to PrintDailyTimeSeries() in the sample code, \n",
    "# write a Python function called PrintCumulativeTimeSeries().\n",
    "\n",
    "# function 1: for any given experiment_id, return a list group by date\n",
    "def GetSeries(my_data, my_id):\n",
    "    table = my_data[[\"date\", \"spend_usd\"]][my_data.experiment_id == my_id]\n",
    "    series = table.groupby('date')['spend_usd'].sum()\n",
    "    return(series)\n",
    "\n",
    "# function 2: for any two series, plot the time series\n",
    "def PlotSeries(experiment_series, control_series):\n",
    "    fig, ax = plt.subplots()\n",
    "    ax.plot(experiment_series, color=\"red\", label=\"experiment\")\n",
    "    ax.plot(control_series, color=\"blue\", label=\"control\")\n",
    "    ax.set_title(\"Red vs. Blue\")\n",
    "    ax.set_ylabel(\"Total spend\")\n",
    "    ax.grid(True, which=\"both\")\n",
    "    ax.legend()\n",
    "    plt.gcf().autofmt_xdate()\n",
    "\n",
    "# master function: \n",
    "def PrintDailyTimeSeries(my_data, experiment_ids):\n",
    "    # make sure our x-axis is consistent\n",
    "    index_series = np.unique(my_data.date) # unique date\n",
    "    index_series = np.sort(index_series) # sort by date\n",
    "    \n",
    "    # data grouping\n",
    "    my_data = my_data.sort_values(\"date\", ascending=True, inplace=False)\n",
    "    treatment_series = GetSeries(my_data, experiment_ids[0])\n",
    "    control_series = GetSeries(my_data, experiment_ids[1])\n",
    "    \n",
    "    PlotSeries(treatment_series, control_series)\n",
    "    \n",
    "# test\n",
    "PrintDailyTimeSeries(my_data, [12624548,12624549])"
   ]
  },
  {
   "cell_type": "code",
   "execution_count": 9,
   "metadata": {
    "collapsed": false
   },
   "outputs": [
    {
     "name": "stdout",
     "output_type": "stream",
     "text": [
      "Cumulative impact: -2.46850453816%\n"
     ]
    },
    {
     "data": {
      "image/png": "[encoded data removed]",
      "text/plain": [
       "<matplotlib.figure.Figure at 0x10d4ddd10>"
      ]
     },
     "metadata": {},
     "output_type": "display_data"
    }
   ],
   "source": [
    "# now, PrintCumulativeTimeSeries()\n",
    "# a few function to return the cumulative sum instead of sum\n",
    "def GetCumulativeSeries(my_data, my_id, country):\n",
    "    table = my_data[[\"date\", \"spend_usd\"]][(my_data.experiment_id == my_id) & (my_data.country == country)]\n",
    "    series = table.groupby('date')['spend_usd'].sum()\n",
    "    series = np.cumsum(series)\n",
    "    total_revenue = series[-1]\n",
    "    return((series, total_revenue))\n",
    "\n",
    "# alternate solution (pseudo code):\n",
    "#   for date in our_dates:\n",
    "#        this_value = series.spend_usd[series.date <= date].sum()\n",
    "# you will be creating new series, very messy\n",
    "\n",
    "# same as before\n",
    "def PlotSeries(experiment_series, control_series):\n",
    "    fig, ax = plt.subplots()\n",
    "    ax.plot(experiment_series, color=\"red\", label=\"experiment\")\n",
    "    ax.plot(control_series, color=\"blue\", label=\"control\")\n",
    "    ax.set_title(\"Red vs. Blue\")\n",
    "    ax.set_ylabel(\"Total spend\")\n",
    "    ax.grid(True, which=\"both\")\n",
    "    ax.legend()\n",
    "    plt.gcf().autofmt_xdate()\n",
    "    \n",
    "def PrintCumulativeTimeSeries(my_data, experiment_ids, country):\n",
    "    # make sure our x-axis is consistent\n",
    "    index_series = np.unique(my_data.date) # unique date\n",
    "    index_series = np.sort(index_series) # sort by date\n",
    "    \n",
    "    # data grouping\n",
    "    my_data = my_data.sort_values(\"date\", ascending=True, inplace=False)\n",
    "    treatment_series = GetCumulativeSeries(my_data, experiment_ids[0], country)[0]\n",
    "    control_series = GetCumulativeSeries(my_data, experiment_ids[1], country)[0]\n",
    "    treatment_revenue = GetCumulativeSeries(my_data, experiment_ids[0], country)[1]\n",
    "    control_revenue = GetCumulativeSeries(my_data, experiment_ids[1], country)[1]\n",
    "    \n",
    "    print(\"Cumulative impact: \" + str(treatment_revenue/control_revenue*100-100) + \"%\")\n",
    "    PlotSeries(treatment_series, control_series)\n",
    "    \n",
    "PrintCumulativeTimeSeries(my_data, [12624548,12624549], \"JP\")"
   ]
  },
  {
   "cell_type": "code",
   "execution_count": 10,
   "metadata": {
    "collapsed": true
   },
   "outputs": [],
   "source": [
    "# HW 6: Write a function that can plot 10 (instead of 2) time series in our data.\n",
    "# key thing is group this part into a function\n",
    "\n",
    "colors = [\"red\",\"blue\",\"green\",\"yellow\",\"purple\"]\n",
    "\n",
    "def GetCumulativeSeries(my_data, my_id):\n",
    "    table = my_data[[\"date\", \"spend_usd\"]][my_data.experiment_id == my_id]\n",
    "    series = table.groupby('date')['spend_usd'].sum()\n",
    "    series = np.cumsum(series)\n",
    "    total_revenue = series[-1]\n",
    "    return((series, total_revenue))\n",
    "\n",
    "def PlotSeriesV2(series, ax, i):\n",
    "    this_label = \"exp\" + str(i)\n",
    "    ax.plot(series, color = colors[i], label = this_label)\n",
    "    ax.set_title(\"As many experiments as we want\")\n",
    "    ax.set_ylabel(\"Total spend\")\n",
    "    ax.grid(True, which=\"both\")\n",
    "    ax.legend()    \n",
    "    plt.gcf().autofmt_xdate()\n",
    "    \n",
    "def PrintCumulativeTimeSeriesV2(my_data, experiment_ids):\n",
    "    # make sure our x-axis is consistent\n",
    "    index_series = np.unique(my_data.date) # unique date\n",
    "    index_series = np.sort(index_series) # sort by date\n",
    "    \n",
    "    # data grouping\n",
    "    my_data = my_data.sort_values(\"date\", ascending=True, inplace=False)\n",
    "    fig, ax = plt.subplots()\n",
    "    for i in range(len(experiment_ids)):\n",
    "        my_experiment = experiment_ids[i]\n",
    "        this_series = GetCumulativeSeries(my_data, my_experiment)[0]\n",
    "        PlotSeriesV2(this_series, ax, i)"
   ]
  },
  {
   "cell_type": "code",
   "execution_count": 11,
   "metadata": {
    "collapsed": false
   },
   "outputs": [
    {
     "data": {
      "image/png": "[encoded data removed]",
      "text/plain": [
       "<matplotlib.figure.Figure at 0x10c45a9d0>"
      ]
     },
     "metadata": {},
     "output_type": "display_data"
    }
   ],
   "source": [
    "PrintCumulativeTimeSeriesV2(my_data, [12624548,12624549])"
   ]
  },
  {
   "cell_type": "code",
   "execution_count": null,
   "metadata": {
    "collapsed": true
   },
   "outputs": [],
   "source": []
  }
 ],
 "metadata": {
  "anaconda-cloud": {},
  "kernelspec": {
   "display_name": "Python [default]",
   "language": "python",
   "name": "python2"
  },
  "language_info": {
   "codemirror_mode": {
    "name": "ipython",
    "version": 2
   },
   "file_extension": ".py",
   "mimetype": "text/x-python",
   "name": "python",
   "nbconvert_exporter": "python",
   "pygments_lexer": "ipython2",
   "version": "2.7.12"
  }
 },
 "nbformat": 4,
 "nbformat_minor": 2
}
